{
 "cells": [
  {
   "cell_type": "markdown",
   "metadata": {},
   "source": [
    "## Machine learing and AI path\n",
    "\n",
    "### Basic\n",
    "\n",
    "### Machine learing\n",
    "\n",
    "1. [ ] [Tensorflow 2.0: Deep Learning and Artificial Intelligence](https://www.udemy.com/course/deep-learning-tensorflow-2/)\n",
    "2. [ ] [Tensorflow 2.0: Deep Learning and Artificial Intelligence VIP](https://deeplearningcourses.com/c/deep-learning-tensorflow-2)\n",
    "3. [ ] [Machine Learning Crash Course - Google](https://developers.google.com/machine-learning/crash-course)\n",
    "\n",
    "### References and resouces\n",
    "\n",
    "- [Deep Learning Courses - Lazy Programmer](https://lazyprogrammer.me/deep-learning-courses/) "
   ]
  }
 ],
 "metadata": {
  "environment": {
   "name": "tf2-gpu.2-1.m58",
   "type": "gcloud",
   "uri": "gcr.io/deeplearning-platform-release/tf2-gpu.2-1:m58"
  },
  "kernelspec": {
   "display_name": "Python 3",
   "language": "python",
   "name": "python3"
  },
  "language_info": {
   "codemirror_mode": {
    "name": "ipython",
    "version": 3
   },
   "file_extension": ".py",
   "mimetype": "text/x-python",
   "name": "python",
   "nbconvert_exporter": "python",
   "pygments_lexer": "ipython3",
   "version": "3.7.8"
  }
 },
 "nbformat": 4,
 "nbformat_minor": 4
}
