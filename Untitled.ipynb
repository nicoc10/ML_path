{
 "cells": [
  {
   "cell_type": "markdown",
   "metadata": {},
   "source": [
    "## Machine learing and AI path\n",
    "\n",
    "### Basic\n",
    "\n",
    "- [ ] [Bayesian Machine Learning in Python: A/B Testing - Lazy Programmer](https://www.udemy.com/course/bayesian-machine-learning-in-python-ab-testing/?referralCode=8312098927EDB63AF429)\n",
    "- [ ] [Deep Learning Prerequisites: The Numpy Stack in Python (V2) - Lazy Programmer](https://deeplearningcourses.com/c/deep-learning-prerequisites-the-numpy-stack-in-python)\n",
    "\n",
    "### Machine learing\n",
    "\n",
    "1. [ ] [Tensorflow 2.0: Deep Learning and Artificial Intelligence - Lazy Programmer](https://www.udemy.com/course/deep-learning-tensorflow-2/)\n",
    "2. [ ] [Tensorflow 2.0: Deep Learning and Artificial Intelligence VIP - Lazy Programmer](https://deeplearningcourses.com/c/deep-learning-tensorflow-2)\n",
    "3. [ ] [PyTorch: Deep Learning and Artificial Intelligence - Lazy Programmer](https://www.udemy.com/course/pytorch-deep-learning/?couponCode=PYTORCHVIP8)\n",
    "3. [ ] [Machine Learning Crash Course - Google](https://developers.google.com/machine-learning/crash-course)\n",
    "\n",
    "### References and resouces\n",
    "\n",
    "- [Deep Learning Courses - Lazy Programmer](https://lazyprogrammer.me/deep-learning-courses/) "
   ]
  },
  {
   "cell_type": "code",
   "execution_count": null,
   "metadata": {},
   "outputs": [],
   "source": []
  }
 ],
 "metadata": {
  "environment": {
   "name": "tf2-gpu.2-1.m58",
   "type": "gcloud",
   "uri": "gcr.io/deeplearning-platform-release/tf2-gpu.2-1:m58"
  },
  "kernelspec": {
   "display_name": "Python 3",
   "language": "python",
   "name": "python3"
  },
  "language_info": {
   "codemirror_mode": {
    "name": "ipython",
    "version": 3
   },
   "file_extension": ".py",
   "mimetype": "text/x-python",
   "name": "python",
   "nbconvert_exporter": "python",
   "pygments_lexer": "ipython3",
   "version": "3.7.8"
  }
 },
 "nbformat": 4,
 "nbformat_minor": 4
}
